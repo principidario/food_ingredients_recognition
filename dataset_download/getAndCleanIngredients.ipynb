{
 "cells": [
  {
   "cell_type": "code",
   "execution_count": 2,
   "metadata": {
    "collapsed": true
   },
   "outputs": [],
   "source": [
    "import urllib2\n",
    "from BeautifulSoup import BeautifulSoup, NavigableString"
   ]
  },
  {
   "cell_type": "code",
   "execution_count": 3,
   "metadata": {
    "collapsed": true
   },
   "outputs": [],
   "source": [
    "def getIngredientsFromFile():\n",
    "    fp = open(\"ingredients_Recipes5k.txt\", \"r\")\n",
    "    words= [word.strip() for line in fp.readlines() for word in line.split(',') if word.strip()]\n",
    "    fp.close()\n",
    "    return words\n",
    "\n",
    "def cleanIngredientsv1():\n",
    "    ingredients = getIngredientsFromFile()\n",
    "    dictIngredients = {}\n",
    "    for ingredient in ingredients:\n",
    "        try:\n",
    "            dictIngredients[ingredient].append(ingredient)\n",
    "        except:\n",
    "            dictIngredients[ingredient] = [ingredient]\n",
    "            \n",
    "    print dictIngredients.keys()   "
   ]
  },
  {
   "cell_type": "code",
   "execution_count": 4,
   "metadata": {
    "collapsed": true
   },
   "outputs": [],
   "source": [
    "alphabet = ['a', 'b', 'c', 'd', 'e', 'f', 'g', 'h', 'i', 'j', 'k', 'l', 'm', 'n', 'o', 'p', 'q', 'r', 's', 't', 'u', 'v', 'w', 'x', 'y', 'z']\n",
    "baseURL = 'http://www.bbc.co.uk/food/ingredients/by/letter/'\n",
    "ingre = []\n",
    "def downloadIngredients():\n",
    "    for letter in alphabet:\n",
    "        url = baseURL + letter\n",
    "        page = urllib2.urlopen(url).read()\n",
    "        soup = BeautifulSoup(page)\n",
    "        \n",
    "        ingredients = soup.findAll(\"li\", {\"class\": \"resource food\"})\n",
    "        for elem in ingredients:\n",
    "            word = ' '.join((elem.find('a').contents)[-1].replace('\\n','').split())\n",
    "            word = unicodedata.normalize('NFKD', word).encode('ascii','ignore').lower()\n",
    "            ingre.append(word)\n",
    "            \n",
    "        time.sleep(0.5)\n",
    "        \n",
    "    fp = open('baseIngredients.txt', 'w')\n",
    "    fp.write(','.join(ingre))\n",
    "    fp.close()"
   ]
  },
  {
   "cell_type": "code",
   "execution_count": null,
   "metadata": {
    "collapsed": true
   },
   "outputs": [],
   "source": []
  }
 ],
 "metadata": {
  "anaconda-cloud": {},
  "kernelspec": {
   "display_name": "Python [default]",
   "language": "python",
   "name": "python2"
  },
  "language_info": {
   "codemirror_mode": {
    "name": "ipython",
    "version": 2
   },
   "file_extension": ".py",
   "mimetype": "text/x-python",
   "name": "python",
   "nbconvert_exporter": "python",
   "pygments_lexer": "ipython2",
   "version": "2.7.12"
  }
 },
 "nbformat": 4,
 "nbformat_minor": 1
}
